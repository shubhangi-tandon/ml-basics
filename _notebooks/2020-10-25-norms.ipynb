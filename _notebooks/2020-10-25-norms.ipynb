{
 "cells": [
  {
   "cell_type": "markdown",
   "metadata": {},
   "source": [
    "# All about Norms\n",
    "> Summary of what Norms are and how we use them in Machine Learning. This is a summary of Gilbert Strang's lecture-https://www.youtube.com/watch?v=NcPUI7aPFhA&ab_channel=MITOpenCourseWare\n",
    "\n",
    "- toc: true \n",
    "- badges: true\n",
    "- comments: true\n",
    "- categories: [jupyter]\n",
    "- image: images/chart-preview.png"
   ]
  },
  {
   "cell_type": "markdown",
   "metadata": {},
   "source": [
    "# About\n",
    "\n",
    "This notebook discusses [Norms](https://www.youtube.com/watch?v=NcPUI7aPFhA&ab_channel=MITOpenCourseWare) and their usage in Machine Learning\n",
    "\n",
    "\n",
    "We will start with popular norms such as `L1 Norm`, `L2 Norm`, 0 and infinity norm"
   ]
  },
  {
   "cell_type": "code",
   "execution_count": null,
   "metadata": {},
   "outputs": [],
   "source": []
  }
 ],
 "metadata": {
  "kernelspec": {
   "display_name": "Python 3.6 (venv)",
   "language": "python",
   "name": "venv"
  },
  "language_info": {
   "codemirror_mode": {
    "name": "ipython",
    "version": 3
   },
   "file_extension": ".py",
   "mimetype": "text/x-python",
   "name": "python",
   "nbconvert_exporter": "python",
   "pygments_lexer": "ipython3",
   "version": "3.6.8"
  }
 },
 "nbformat": 4,
 "nbformat_minor": 4
}
